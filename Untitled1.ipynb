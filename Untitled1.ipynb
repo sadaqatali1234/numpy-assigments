{
 "cells": [
  {
   "cell_type": "code",
   "execution_count": 18,
   "metadata": {},
   "outputs": [
    {
     "ename": "TypeError",
     "evalue": "list indices must be integers or slices, not tuple",
     "output_type": "error",
     "traceback": [
      "\u001b[1;31m---------------------------------------------------------------------------\u001b[0m",
      "\u001b[1;31mTypeError\u001b[0m                                 Traceback (most recent call last)",
      "\u001b[1;32m<ipython-input-18-fd0de603dbcd>\u001b[0m in \u001b[0;36m<module>\u001b[1;34m\u001b[0m\n\u001b[0;32m      1\u001b[0m \u001b[1;32mimport\u001b[0m \u001b[0mnumpy\u001b[0m \u001b[1;32mas\u001b[0m \u001b[0mnp\u001b[0m\u001b[1;33m\u001b[0m\u001b[1;33m\u001b[0m\u001b[0m\n\u001b[0;32m      2\u001b[0m x = np.array(([[[1,2,3],[4,5,6,],[7,8,9]\n\u001b[1;32m----> 3\u001b[1;33m               \u001b[1;33m[\u001b[0m\u001b[1;36m10\u001b[0m\u001b[1;33m,\u001b[0m\u001b[1;36m11\u001b[0m\u001b[1;33m,\u001b[0m\u001b[1;36m12\u001b[0m\u001b[1;33m]\u001b[0m\u001b[1;33m,\u001b[0m\u001b[1;33m[\u001b[0m\u001b[1;36m13\u001b[0m\u001b[1;33m,\u001b[0m\u001b[1;36m14\u001b[0m\u001b[1;33m,\u001b[0m\u001b[1;36m15\u001b[0m\u001b[1;33m]\u001b[0m\u001b[1;33m,\u001b[0m\u001b[1;33m[\u001b[0m\u001b[1;36m16\u001b[0m\u001b[1;33m,\u001b[0m\u001b[1;36m17\u001b[0m\u001b[1;33m,\u001b[0m\u001b[1;36m18\u001b[0m\u001b[1;33m]\u001b[0m\u001b[1;33m\u001b[0m\u001b[1;33m\u001b[0m\u001b[0m\n\u001b[0m\u001b[0;32m      4\u001b[0m               [19,20,21],[22,23,24],[25,26,27]]]))\n",
      "\u001b[1;31mTypeError\u001b[0m: list indices must be integers or slices, not tuple"
     ]
    }
   ],
   "source": [
    "import numpy as np\n",
    "x = np.array(([[[1,2,3],[4,5,6,],[7,8,9]\n",
    "              [10,11,12],[13,14,15],[16,17,18]\n",
    "              [19,20,21],[22,23,24],[25,26,27]]]))"
   ]
  },
  {
   "cell_type": "code",
   "execution_count": 3,
   "metadata": {},
   "outputs": [
    {
     "data": {
      "text/plain": [
       "3"
      ]
     },
     "execution_count": 3,
     "metadata": {},
     "output_type": "execute_result"
    }
   ],
   "source": [
    "x.ndim"
   ]
  },
  {
   "cell_type": "code",
   "execution_count": 4,
   "metadata": {},
   "outputs": [
    {
     "data": {
      "text/plain": [
       "array([[[1, 2, 3],\n",
       "        [4, 5, 6],\n",
       "        [7, 8, 9]]])"
      ]
     },
     "execution_count": 4,
     "metadata": {},
     "output_type": "execute_result"
    }
   ],
   "source": [
    "x"
   ]
  },
  {
   "cell_type": "code",
   "execution_count": 10,
   "metadata": {},
   "outputs": [],
   "source": [
    "y =np.arange(27).reshape(3,3,3)"
   ]
  },
  {
   "cell_type": "code",
   "execution_count": 11,
   "metadata": {},
   "outputs": [
    {
     "data": {
      "text/plain": [
       "3"
      ]
     },
     "execution_count": 11,
     "metadata": {},
     "output_type": "execute_result"
    }
   ],
   "source": [
    "y.ndim"
   ]
  },
  {
   "cell_type": "code",
   "execution_count": 12,
   "metadata": {},
   "outputs": [
    {
     "data": {
      "text/plain": [
       "(3, 3, 3)"
      ]
     },
     "execution_count": 12,
     "metadata": {},
     "output_type": "execute_result"
    }
   ],
   "source": [
    "y.shape"
   ]
  },
  {
   "cell_type": "code",
   "execution_count": 13,
   "metadata": {},
   "outputs": [
    {
     "data": {
      "text/plain": [
       "(1, 3, 3)"
      ]
     },
     "execution_count": 13,
     "metadata": {},
     "output_type": "execute_result"
    }
   ],
   "source": [
    "x.shape"
   ]
  },
  {
   "cell_type": "code",
   "execution_count": 14,
   "metadata": {},
   "outputs": [
    {
     "ename": "ValueError",
     "evalue": "cannot reshape array of size 9 into shape (3,3,3)",
     "output_type": "error",
     "traceback": [
      "\u001b[1;31m---------------------------------------------------------------------------\u001b[0m",
      "\u001b[1;31mValueError\u001b[0m                                Traceback (most recent call last)",
      "\u001b[1;32m<ipython-input-14-c5c3aa16a6b0>\u001b[0m in \u001b[0;36m<module>\u001b[1;34m\u001b[0m\n\u001b[1;32m----> 1\u001b[1;33m \u001b[0mx\u001b[0m\u001b[1;33m.\u001b[0m\u001b[0mreshape\u001b[0m\u001b[1;33m(\u001b[0m\u001b[1;36m3\u001b[0m\u001b[1;33m,\u001b[0m\u001b[1;36m3\u001b[0m\u001b[1;33m,\u001b[0m\u001b[1;36m3\u001b[0m\u001b[1;33m)\u001b[0m\u001b[1;33m\u001b[0m\u001b[1;33m\u001b[0m\u001b[0m\n\u001b[0m",
      "\u001b[1;31mValueError\u001b[0m: cannot reshape array of size 9 into shape (3,3,3)"
     ]
    }
   ],
   "source": [
    "x.reshape(3,3,3)"
   ]
  },
  {
   "cell_type": "code",
   "execution_count": 44,
   "metadata": {},
   "outputs": [
    {
     "data": {
      "text/plain": [
       "array([[[10., 11., 12.],\n",
       "        [13., 14., 15.],\n",
       "        [16., 17., 18.]],\n",
       "\n",
       "       [[19., 20., 21.],\n",
       "        [22., 23., 24.],\n",
       "        [25., 26., 27.]],\n",
       "\n",
       "       [[28., 29., 30.],\n",
       "        [31., 32., 33.],\n",
       "        [34., 35., 36.]]])"
      ]
     },
     "execution_count": 44,
     "metadata": {},
     "output_type": "execute_result"
    }
   ],
   "source": [
    "def func():\n",
    "    y = np .array([10, 11, 12, 13, 14, 15, 16, 17, 18, 19, 20, 21, 22, 23, 24, 25, 26,\n",
    "       27, 28, 29, 30, 31, 32, 33, 34, 35,36],\"float\").reshape(3,3,3)\n",
    "    return y\n",
    "func()"
   ]
  },
  {
   "cell_type": "code",
   "execution_count": 32,
   "metadata": {},
   "outputs": [
    {
     "data": {
      "text/plain": [
       "array([10, 11, 12, 13, 14, 15, 16, 17, 18, 19, 20, 21, 22, 23, 24, 25, 26,\n",
       "       27, 28, 29, 30, 31, 32, 33, 34, 35])"
      ]
     },
     "execution_count": 32,
     "metadata": {},
     "output_type": "execute_result"
    }
   ],
   "source": [
    "np.arange(10,36)"
   ]
  },
  {
   "cell_type": "code",
   "execution_count": 22,
   "metadata": {},
   "outputs": [
    {
     "ename": "SyntaxError",
     "evalue": "invalid syntax (<ipython-input-22-6ffc91ad90cc>, line 6)",
     "output_type": "error",
     "traceback": [
      "\u001b[1;36m  File \u001b[1;32m\"<ipython-input-22-6ffc91ad90cc>\"\u001b[1;36m, line \u001b[1;32m6\u001b[0m\n\u001b[1;33m    x = a[] #wrtie your code here\u001b[0m\n\u001b[1;37m          ^\u001b[0m\n\u001b[1;31mSyntaxError\u001b[0m\u001b[1;31m:\u001b[0m invalid syntax\n"
     ]
    }
   ],
   "source": [
    "task3\n",
    "def function3():\n",
    "    #extract those numbers from given array. those are must exist in 5,7 Table\n",
    "    #example [35,70,105,..]\n",
    "    a = np.arange(1, 100*10+1).reshape((100,10))\n",
    "    x = a[] #wrtie your code here\n",
    "    return x\n",
    "    \"\"\"\n",
    "    Expected Output:\n",
    "     [35,  70, 105, 140, 175, 210, 245, 280, 315, 350, 385, 420, 455,\n",
    "       490, 525, 560, 595, 630, 665, 700, 735, 770, 805, 840, 875, 910,\n",
    "       945, 980] \n",
    "    \"\"\" "
   ]
  },
  {
   "cell_type": "code",
   "execution_count": 48,
   "metadata": {},
   "outputs": [
    {
     "data": {
      "text/plain": [
       "array([[  1,   2,   3,   4,   5,   6,   7,   8,   9,  10],\n",
       "       [ 21,  22,  23,  24,  25,  26,  27,  28,  29,  30],\n",
       "       [ 41,  42,  43,  44,  45,  46,  47,  48,  49,  50],\n",
       "       [ 61,  62,  63,  64,  65,  66,  67,  68,  69,  70],\n",
       "       [ 81,  82,  83,  84,  85,  86,  87,  88,  89,  90],\n",
       "       [101, 102, 103, 104, 105, 106, 107, 108, 109, 110],\n",
       "       [121, 122, 123, 124, 125, 126, 127, 128, 129, 130],\n",
       "       [141, 142, 143, 144, 145, 146, 147, 148, 149, 150],\n",
       "       [161, 162, 163, 164, 165, 166, 167, 168, 169, 170],\n",
       "       [181, 182, 183, 184, 185, 186, 187, 188, 189, 190],\n",
       "       [201, 202, 203, 204, 205, 206, 207, 208, 209, 210],\n",
       "       [221, 222, 223, 224, 225, 226, 227, 228, 229, 230],\n",
       "       [241, 242, 243, 244, 245, 246, 247, 248, 249, 250],\n",
       "       [261, 262, 263, 264, 265, 266, 267, 268, 269, 270],\n",
       "       [281, 282, 283, 284, 285, 286, 287, 288, 289, 290],\n",
       "       [301, 302, 303, 304, 305, 306, 307, 308, 309, 310],\n",
       "       [321, 322, 323, 324, 325, 326, 327, 328, 329, 330],\n",
       "       [341, 342, 343, 344, 345, 346, 347, 348, 349, 350],\n",
       "       [361, 362, 363, 364, 365, 366, 367, 368, 369, 370],\n",
       "       [381, 382, 383, 384, 385, 386, 387, 388, 389, 390],\n",
       "       [401, 402, 403, 404, 405, 406, 407, 408, 409, 410],\n",
       "       [421, 422, 423, 424, 425, 426, 427, 428, 429, 430],\n",
       "       [441, 442, 443, 444, 445, 446, 447, 448, 449, 450],\n",
       "       [461, 462, 463, 464, 465, 466, 467, 468, 469, 470],\n",
       "       [481, 482, 483, 484, 485, 486, 487, 488, 489, 490],\n",
       "       [501, 502, 503, 504, 505, 506, 507, 508, 509, 510],\n",
       "       [521, 522, 523, 524, 525, 526, 527, 528, 529, 530],\n",
       "       [541, 542, 543, 544, 545, 546, 547, 548, 549, 550],\n",
       "       [561, 562, 563, 564, 565, 566, 567, 568, 569, 570],\n",
       "       [581, 582, 583, 584, 585, 586, 587, 588, 589, 590],\n",
       "       [601, 602, 603, 604, 605, 606, 607, 608, 609, 610],\n",
       "       [621, 622, 623, 624, 625, 626, 627, 628, 629, 630],\n",
       "       [641, 642, 643, 644, 645, 646, 647, 648, 649, 650],\n",
       "       [661, 662, 663, 664, 665, 666, 667, 668, 669, 670],\n",
       "       [681, 682, 683, 684, 685, 686, 687, 688, 689, 690],\n",
       "       [701, 702, 703, 704, 705, 706, 707, 708, 709, 710],\n",
       "       [721, 722, 723, 724, 725, 726, 727, 728, 729, 730],\n",
       "       [741, 742, 743, 744, 745, 746, 747, 748, 749, 750],\n",
       "       [761, 762, 763, 764, 765, 766, 767, 768, 769, 770],\n",
       "       [781, 782, 783, 784, 785, 786, 787, 788, 789, 790],\n",
       "       [801, 802, 803, 804, 805, 806, 807, 808, 809, 810],\n",
       "       [821, 822, 823, 824, 825, 826, 827, 828, 829, 830],\n",
       "       [841, 842, 843, 844, 845, 846, 847, 848, 849, 850],\n",
       "       [861, 862, 863, 864, 865, 866, 867, 868, 869, 870],\n",
       "       [881, 882, 883, 884, 885, 886, 887, 888, 889, 890],\n",
       "       [901, 902, 903, 904, 905, 906, 907, 908, 909, 910],\n",
       "       [921, 922, 923, 924, 925, 926, 927, 928, 929, 930],\n",
       "       [941, 942, 943, 944, 945, 946, 947, 948, 949, 950],\n",
       "       [961, 962, 963, 964, 965, 966, 967, 968, 969, 970],\n",
       "       [981, 982, 983, 984, 985, 986, 987, 988, 989, 990]])"
      ]
     },
     "execution_count": 48,
     "metadata": {},
     "output_type": "execute_result"
    }
   ],
   "source": [
    "a = np.arange(1,100*10+1).reshape((100,10))\n",
    "x= a\n",
    "x"
   ]
  },
  {
   "cell_type": "code",
   "execution_count": 59,
   "metadata": {},
   "outputs": [
    {
     "data": {
      "text/plain": [
       "array([[0, 1, 2],\n",
       "       [3, 4, 5],\n",
       "       [6, 7, 8]])"
      ]
     },
     "execution_count": 59,
     "metadata": {},
     "output_type": "execute_result"
    }
   ],
   "source": [
    "arr = np.arange(9).reshape(3,3)\n",
    "arr"
   ]
  },
  {
   "cell_type": "code",
   "execution_count": 60,
   "metadata": {},
   "outputs": [
    {
     "data": {
      "text/plain": [
       "array([[1, 0, 2],\n",
       "       [4, 3, 5],\n",
       "       [7, 6, 8]])"
      ]
     },
     "execution_count": 60,
     "metadata": {},
     "output_type": "execute_result"
    }
   ],
   "source": [
    "arr[:,[0,1]]=arr[:,[1,0]]\n",
    "arr\n"
   ]
  },
  {
   "cell_type": "code",
   "execution_count": 65,
   "metadata": {},
   "outputs": [
    {
     "ename": "SyntaxError",
     "evalue": "invalid syntax (<ipython-input-65-6df313ab19e3>, line 3)",
     "output_type": "error",
     "traceback": [
      "\u001b[1;36m  File \u001b[1;32m\"<ipython-input-65-6df313ab19e3>\"\u001b[1;36m, line \u001b[1;32m3\u001b[0m\n\u001b[1;33m    return arr[:,[0,1]]= arr[:,[1,0]]\u001b[0m\n\u001b[1;37m                       ^\u001b[0m\n\u001b[1;31mSyntaxError\u001b[0m\u001b[1;31m:\u001b[0m invalid syntax\n"
     ]
    }
   ],
   "source": [
    "def function4():\n",
    "    arr = np.arange(9).reshape(3,3)\n",
    "    return arr[:,[0,1]]= arr[:,[1,0]]\n",
    "function4()"
   ]
  },
  {
   "cell_type": "code",
   "execution_count": null,
   "metadata": {},
   "outputs": [],
   "source": []
  }
 ],
 "metadata": {
  "kernelspec": {
   "display_name": "Python 3",
   "language": "python",
   "name": "python3"
  },
  "language_info": {
   "codemirror_mode": {
    "name": "ipython",
    "version": 3
   },
   "file_extension": ".py",
   "mimetype": "text/x-python",
   "name": "python",
   "nbconvert_exporter": "python",
   "pygments_lexer": "ipython3",
   "version": "3.7.6"
  }
 },
 "nbformat": 4,
 "nbformat_minor": 4
}
